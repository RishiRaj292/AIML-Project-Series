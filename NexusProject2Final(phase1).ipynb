{
 "cells": [
  {
   "cell_type": "code",
   "execution_count": 1,
   "id": "ed5f0132-1504-40dc-a4dd-27209bbac7c0",
   "metadata": {},
   "outputs": [
    {
     "name": "stderr",
     "output_type": "stream",
     "text": [
      "[nltk_data] Downloading package punkt to\n",
      "[nltk_data]     C:\\Users\\Nidhi\\AppData\\Roaming\\nltk_data...\n",
      "[nltk_data]   Package punkt is already up-to-date!\n"
     ]
    },
    {
     "data": {
      "text/html": [
       "<h3>Hello! I'm your college admissions assistant. How can I help you today?</h3>"
      ],
      "text/plain": [
       "<IPython.core.display.HTML object>"
      ]
     },
     "metadata": {},
     "output_type": "display_data"
    },
    {
     "name": "stdin",
     "output_type": "stream",
     "text": [
      "You:  bye\n"
     ]
    },
    {
     "data": {
      "text/html": [
       "<p>Bot: Goodbye! Have a great day!</p>"
      ],
      "text/plain": [
       "<IPython.core.display.HTML object>"
      ]
     },
     "metadata": {},
     "output_type": "display_data"
    }
   ],
   "source": [
    "# Import necessary libraries\n",
    "import nltk\n",
    "from nltk.tokenize import word_tokenize\n",
    "\n",
    "# Download necessary NLTK data\n",
    "nltk.download('punkt')\n",
    "\n",
    "# Function to greet the user\n",
    "def greet_user():\n",
    "    return \"Hello! I'm your college admissions assistant. How can I help you today?\"\n",
    "\n",
    "# Class to maintain context\n",
    "class ChatbotContext:\n",
    "    def __init__(self):\n",
    "        self.context_data = {}\n",
    "\n",
    "    def update_context(self, key, value):\n",
    "        self.context_data[key] = value\n",
    "\n",
    "    def get_context(self, key):\n",
    "        return self.context_data.get(key, None)\n",
    "\n",
    "# URLs for Google and YouTube\n",
    "google_url = \"https://www.google.com\"\n",
    "youtube_url = \"https://www.youtube.com\"\n",
    "\n",
    "# Expanded responses dictionary\n",
    "responses = {\n",
    "    \"hello\": \"Hello! How may I help you in your college admission process?\",\n",
    "    \"admission procedure\": \"The admission procedure involves filling out the application form, submitting required documents, and attending an interview, depending on the college you are applying for.\",\n",
    "    \"admissions\": \"The admission procedure involves filling out the application form, submitting required documents, and attending an interview, depending on the college you are applying for.\",\n",
    "    \"requirements\": \"The requirements include a completed application form, transcripts, and recommendation letters.\",\n",
    "    \"deadlines\": \"The application deadlines are as follows: Early decision - November 1, Regular decision - January 15.\",\n",
    "    \"first\": \"The first step is to gather the required documents as per the requirement of your college. This could include your detailed marksheet, character certificate, migration certificate, and more as needed.\",\n",
    "    \"last\": \"The last date for the application of the college depends on the college itself, unless it falls under a specific counseling franchise. For more details, visit <a href='{google_url}' target='_blank'>Google</a> and search more specific to your query.\",\n",
    "    \"deadline\": \"The last date for the application of the college depends on the college itself, unless it falls under a specific counseling franchise. For more details, visit <a href='{google_url}' target='_blank'>Google</a> and search more specific to your query.\",\n",
    "    \"documents\": \"Common documents required for college admission include transcripts, recommendation letters, a personal statement or essay, and standardized test scores.\",\n",
    "    \"financial aid\": \"Financial aid is available in the form of scholarships, grants, and loans. You should fill out the FAFSA form to determine your eligibility.\",\n",
    "    \"scholarships\": \"There are various scholarships available based on merit, need, and other criteria. Check the college's financial aid office or website for more information.\",\n",
    "    \"interview\": \"Some colleges require an interview as part of the admission process. Prepare by practicing common interview questions and researching the college.\",\n",
    "    \"campus tour\": \"Visiting the campus can give you a better feel for the college environment. Many colleges offer virtual tours on their websites.\",\n",
    "    \"majors\": \"Colleges offer a variety of majors. You can explore the college's website or catalog to learn more about the programs they offer.\",\n",
    "    \"extracurricular activities\": \"Involvement in extracurricular activities can strengthen your application. Highlight any leadership roles or significant contributions.\",\n",
    "    \"essay\": \"The college essay is your chance to showcase your personality and writing skills. Be sure to proofread and have someone else review it.\",\n",
    "    \"transcripts\": \"Official transcripts are required for admission. Request them from your high school or previous institutions well in advance.\",\n",
    "    \"visit\": \"Visiting the college can provide valuable insights. Check the college's website for information on scheduling a visit.\",\n",
    "    \"waitlist\": \"If you are placed on a waitlist, it means the college may offer you admission if space becomes available. Keep in touch with the admissions office.\",\n",
    "    \"early decision\": \"Early decision is a binding agreement where you commit to attending the college if accepted. The deadline is usually in November.\",\n",
    "    \"regular decision\": \"Regular decision deadlines are typically in January, and you can apply to multiple colleges without commitment.\",\n",
    "    \"rolling admissions\": \"Colleges with rolling admissions review applications as they are received. It's best to apply early as spots can fill up quickly.\",\n",
    "    \"online application\": \"Most colleges have an online application portal. Be sure to save your work and review all sections before submitting.\",\n",
    "    \"common application\": \"The Common Application is a standardized application used by many colleges. It allows you to apply to multiple schools with one form.\",\n",
    "    \"admission decision\": \"Admission decisions are typically released in March or April for regular decision applicants.\",\n",
    "    \"acceptance letter\": \"If you are accepted, you will receive an acceptance letter with details on the next steps, such as confirming your enrollment.\",\n",
    "    \"enrollment deposit\": \"An enrollment deposit is required to secure your spot at the college. The amount and deadline will be specified in your acceptance letter.\",\n",
    "    \"orientation\": \"College orientation helps new students get acclimated. It usually includes campus tours, meeting advisors, and registering for classes.\",\n",
    "    \"hostel\": \"On-campus housing is often available for freshmen. Apply early to secure your preferred accommodation.\",\n",
    "    \"meal plans\": \"Colleges offer various meal plans. Choose one that fits your schedule and dietary needs.\",\n",
    "    \"student services\": \"Colleges provide various student services, including academic advising, career counseling, and health services.\",\n",
    "    \"study abroad\": \"Many colleges offer study abroad programs. Check with the international office for options and application procedures.\",\n",
    "}\n",
    "\n",
    "# Function to handle user queries with context\n",
    "def handle_query(user_input, context):\n",
    "    user_input_lower = user_input.lower()\n",
    "    for keyword in responses:\n",
    "        if keyword in user_input_lower:\n",
    "            context.update_context(\"last_query\", keyword)\n",
    "            return responses[keyword]\n",
    "    return f\"I'm sorry, I don't have information on that. Could you please ask something else? Or you could visit <a href='{google_url}' target='_blank'>Google</a> or <a href='{youtube_url}' target='_blank'>YouTube</a>.\"\n",
    "\n",
    "# Function to handle contextual responses\n",
    "def contextual_response(user_input, context):\n",
    "    last_query = context.get_context(\"last_query\")\n",
    "    if last_query and \"thanks\" in user_input.lower():\n",
    "        return \"You're welcome! Is there anything else you need help with?\"\n",
    "    return handle_query(user_input, context)\n",
    "\n",
    "# Function to handle errors\n",
    "def handle_errors():\n",
    "    return f\"I'm not sure how to answer that. Could you please rephrase your question or ask something else? Or you could visit <a href='{google_url}' target='_blank'>Google</a> or <a href='{youtube_url}' target='_blank'>YouTube</a>.\"\n",
    "\n",
    "# Function to simulate a chat with the bot\n",
    "def chat_with_bot():\n",
    "    context = ChatbotContext()\n",
    "    from IPython.display import display, HTML\n",
    "    display(HTML(\"<h3>Hello! I'm your college admissions assistant. How can I help you today?</h3>\"))\n",
    "    while True:\n",
    "        user_input = input(\"You: \")\n",
    "        if user_input.lower() in [\"exit\", \"quit\", \"bye\", \"goodbye\"]:\n",
    "            display(HTML(\"<p>Bot: Goodbye! Have a great day!</p>\"))\n",
    "            break\n",
    "        response = contextual_response(user_input, context)\n",
    "        display(HTML(f\"<p>Bot: {response}</p>\"))\n",
    "\n",
    "# Start the chat\n",
    "chat_with_bot()\n"
   ]
  },
  {
   "cell_type": "code",
   "execution_count": null,
   "id": "64217765-2a57-4db9-b0cd-b5f185b54b39",
   "metadata": {},
   "outputs": [],
   "source": []
  }
 ],
 "metadata": {
  "kernelspec": {
   "display_name": "Python 3 (ipykernel)",
   "language": "python",
   "name": "python3"
  },
  "language_info": {
   "codemirror_mode": {
    "name": "ipython",
    "version": 3
   },
   "file_extension": ".py",
   "mimetype": "text/x-python",
   "name": "python",
   "nbconvert_exporter": "python",
   "pygments_lexer": "ipython3",
   "version": "3.12.0"
  }
 },
 "nbformat": 4,
 "nbformat_minor": 5
}
