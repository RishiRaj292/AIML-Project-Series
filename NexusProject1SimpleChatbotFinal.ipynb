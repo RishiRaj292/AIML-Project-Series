{
 "cells": [
  {
   "cell_type": "code",
   "execution_count": null,
   "id": "c856e81e-7302-49a6-b115-dc4c2e24ab77",
   "metadata": {},
   "outputs": [
    {
     "name": "stdout",
     "output_type": "stream",
     "text": [
      "Hello! How can I assist you today?\n"
     ]
    },
    {
     "name": "stdin",
     "output_type": "stream",
     "text": [
      " hello\n"
     ]
    },
    {
     "name": "stdout",
     "output_type": "stream",
     "text": [
      "Hello! How may I assist you?\n"
     ]
    },
    {
     "name": "stdin",
     "output_type": "stream",
     "text": [
      " ask me questions\n"
     ]
    },
    {
     "name": "stdout",
     "output_type": "stream",
     "text": [
      "Are you sure you want me to ask you some questions? (yes/no)\n"
     ]
    },
    {
     "name": "stdin",
     "output_type": "stream",
     "text": [
      " no\n"
     ]
    },
    {
     "name": "stdout",
     "output_type": "stream",
     "text": [
      "Okay, no questions for now.\n",
      "I am not sure how to respond to that. Can you please rephrase?\n"
     ]
    },
    {
     "name": "stdin",
     "output_type": "stream",
     "text": [
      " hello\n"
     ]
    },
    {
     "name": "stdout",
     "output_type": "stream",
     "text": [
      "Hello! How may I assist you?\n"
     ]
    },
    {
     "name": "stdin",
     "output_type": "stream",
     "text": [
      " my name is rishi\n"
     ]
    },
    {
     "name": "stdout",
     "output_type": "stream",
     "text": [
      "Nice to meet you, rishi!\n"
     ]
    },
    {
     "name": "stdin",
     "output_type": "stream",
     "text": [
      " what is my  name\n"
     ]
    },
    {
     "name": "stdout",
     "output_type": "stream",
     "text": [
      "I am not sure how to respond to that. Can you please rephrase?\n"
     ]
    },
    {
     "name": "stdin",
     "output_type": "stream",
     "text": [
      " what is my name\n"
     ]
    },
    {
     "name": "stdout",
     "output_type": "stream",
     "text": [
      "Your name is rishi.\n"
     ]
    },
    {
     "name": "stdin",
     "output_type": "stream",
     "text": [
      " i am 12 years old\n"
     ]
    },
    {
     "name": "stdout",
     "output_type": "stream",
     "text": [
      "Okay, I got your age as 12 years old!\n"
     ]
    },
    {
     "name": "stdin",
     "output_type": "stream",
     "text": [
      " how aold am i\n"
     ]
    },
    {
     "name": "stdout",
     "output_type": "stream",
     "text": [
      "I am not sure how to respond to that. Can you please rephrase?\n"
     ]
    },
    {
     "name": "stdin",
     "output_type": "stream",
     "text": [
      " how old am i\n"
     ]
    },
    {
     "name": "stdout",
     "output_type": "stream",
     "text": [
      "You are 12 years old.\n"
     ]
    },
    {
     "name": "stdin",
     "output_type": "stream",
     "text": [
      " what is my age\n"
     ]
    },
    {
     "name": "stdout",
     "output_type": "stream",
     "text": [
      "You are 12 years old.\n"
     ]
    },
    {
     "name": "stdin",
     "output_type": "stream",
     "text": [
      " i am from patna \n"
     ]
    },
    {
     "name": "stdout",
     "output_type": "stream",
     "text": [
      "Okay, I see you're from patna!\n"
     ]
    },
    {
     "name": "stdin",
     "output_type": "stream",
     "text": [
      " where am i from\n"
     ]
    },
    {
     "name": "stdout",
     "output_type": "stream",
     "text": [
      "You are from patna.\n"
     ]
    }
   ],
   "source": [
    "# greeting function\n",
    "def greet_user():\n",
    "    return \"Hello! How can I assist you today?\"\n",
    "\n",
    "# responses dictionary\n",
    "responses = {\n",
    "    \"hello\": \"Hello! How may I assist you?\",\n",
    "    \"what is your name\": \"I am a chatbot created to assist you.\",\n",
    "    \"who are you\": \"I am a chatbot created to assist you.\",\n",
    "    \"how are you\": \"I am just a bunch of code, but I'm here to help you!\",\n",
    "    \"what can you do\": \"I can answer your questions and have a simple conversation with you.\",\n",
    "    \"tell me a joke\": \"Why did the scarecrow win an award? Because he was outstanding in his field!\",\n",
    "    \"goodbye\": \"Goodbye! Have a great day!\",\n",
    "    \"i will be going now\": \"Goodbye!\",\n",
    "    \"what are your abilities\": \"I can answer your questions and have a simple conversation with you.\",\n",
    "    \"what is your job\": \"I can answer your questions and have a simple conversation with you.\",\n",
    "}\n",
    "\n",
    "# context dictionary to maintain context\n",
    "context = {}\n",
    "\n",
    "# Remember Context Function\n",
    "def remember_context(user_input):\n",
    "    user_input = user_input.lower()\n",
    "    if \"my name is\" in user_input:\n",
    "        name = user_input.split(\"my name is \")[1].strip()\n",
    "        if 'name' not in context or context['name'] != name:\n",
    "            context['name'] = name\n",
    "            return f\"Nice to meet you, {name}!\"\n",
    "    elif \"i am\" in user_input and (\"years old\" in user_input or \"year old\" in user_input):\n",
    "        age = user_input.split(\"i am \")[1].split(\" \")[0].strip()\n",
    "        context['age'] = age\n",
    "        return f\"Okay, I got your age as {age} years old!\"\n",
    "    elif \"my age is\" in user_input:\n",
    "        age = user_input.split(\"my age is \")[1].strip()\n",
    "        context['age'] = age\n",
    "        return f\"Okay, I got your age as {age} years old!\"\n",
    "    elif \"i am from\" in user_input or \"i come from\" in user_input:\n",
    "        location = user_input.split(\"from \")[1].strip()\n",
    "        context['location'] = location\n",
    "        return f\"Okay, I see you're from {location}!\"\n",
    "    return None\n",
    "\n",
    "# get response function\n",
    "def get_response(user_input):\n",
    "    user_input = user_input.lower()\n",
    "    if user_input in responses:\n",
    "        return responses[user_input]\n",
    "    if \"what is my name\" in user_input:\n",
    "        name = context.get('name', None)\n",
    "        if name:\n",
    "            return f\"Your name is {name}.\"\n",
    "        else:\n",
    "            return \"I don't know your name yet.\"\n",
    "    if \"how old am i\" in user_input:\n",
    "        age = context.get('age', None)\n",
    "        if age:\n",
    "            return f\"You are {age} years old.\"\n",
    "        else:\n",
    "            return \"I don't know your age yet.\"\n",
    "\n",
    "    if \"what is my age\" in user_input:\n",
    "        age = context.get('age', None)\n",
    "        if age:\n",
    "            return f\"You are {age} years old.\"\n",
    "        else:\n",
    "            return \"I don't know your age yet.\"\n",
    "    if \"where am i from\" in user_input:\n",
    "        location = context.get('location', None)\n",
    "        if location:\n",
    "            return f\"You are from {location}.\"\n",
    "        else:\n",
    "            return \"I don't know where you are from yet.\"\n",
    "    return \"I am not sure how to respond to that.\"\n",
    "\n",
    "# error handling function\n",
    "def handle_error(user_input):\n",
    "    return \"I am not sure how to respond to that. Can you please rephrase?\"\n",
    "\n",
    "# ask user questions function\n",
    "def ask_user_questions():\n",
    "    questions = [\n",
    "        \"What is your favorite color?\",\n",
    "        \"Do you have any hobbies?\",\n",
    "        \"What is your favorite food?\"\n",
    "    ]\n",
    "    answers = []\n",
    "    for question in questions:\n",
    "        print(question)\n",
    "        answer = input().strip()\n",
    "        answers.append(answer)\n",
    "    return answers\n",
    "\n",
    "# main chatbot function\n",
    "def chatbot():\n",
    "    print(greet_user())\n",
    "    user_answers = []\n",
    "    just_answered_questions = False\n",
    "    #extra_response_skip=False\n",
    "    while True:\n",
    "        user_input = input().strip()\n",
    "        acknowledgment = remember_context(user_input)\n",
    "        \n",
    "        if user_input.lower() == \"goodbye\":\n",
    "            print(responses[\"goodbye\"])\n",
    "            break\n",
    "        \n",
    "        if acknowledgment:\n",
    "            print(acknowledgment)\n",
    "            continue  # This will skip the rest of the loop and not show an error message\n",
    "\n",
    "        if \"can you ask me questions\" in user_input.lower() or \"ask me questions\" in user_input.lower():\n",
    "            print(\"Are you sure you want me to ask you some questions? (yes/no)\")\n",
    "            permission = input().strip()\n",
    "            if permission.lower() == \"yes\":\n",
    "                user_answers = ask_user_questions()\n",
    "                print(f\"Thank you for your answers! So, your favorite color is {user_answers[0]}, your hobby/hobbies is/are {user_answers[1]}, and your favorite food is {user_answers[2]}.\")\n",
    "                just_answered_questions = True\n",
    "                #extra_response_skip=True\n",
    "                \n",
    "            else:\n",
    "                print(\"Okay, no questions for now.\")\n",
    "                #extra_response_skip=True\n",
    "        \n",
    "        if \"show my answers\" in user_input.lower():\n",
    "            if user_answers:\n",
    "                print(f\"Your favorite color is {user_answers[0]}, your hobby/hobbies is/are {user_answers[1]}, and your favorite food is {user_answers[2]}.\")\n",
    "                continue\n",
    "            else:\n",
    "                print(\"You haven't answered the questions yet.\")\n",
    "\n",
    "        #if extra_response_skip==False:\n",
    "        response = get_response(user_input)\n",
    "        if response == \"I am not sure how to respond to that.\":\n",
    "            response = handle_error(user_input)\n",
    "        \n",
    "        print(response)\n",
    "\n",
    "# run the chatbot\n",
    "chatbot()\n"
   ]
  },
  {
   "cell_type": "code",
   "execution_count": null,
   "id": "c0f890b9-4cd6-4d24-8274-b33842d66fa5",
   "metadata": {},
   "outputs": [],
   "source": []
  }
 ],
 "metadata": {
  "kernelspec": {
   "display_name": "Python 3 (ipykernel)",
   "language": "python",
   "name": "python3"
  },
  "language_info": {
   "codemirror_mode": {
    "name": "ipython",
    "version": 3
   },
   "file_extension": ".py",
   "mimetype": "text/x-python",
   "name": "python",
   "nbconvert_exporter": "python",
   "pygments_lexer": "ipython3",
   "version": "3.12.0"
  }
 },
 "nbformat": 4,
 "nbformat_minor": 5
}
